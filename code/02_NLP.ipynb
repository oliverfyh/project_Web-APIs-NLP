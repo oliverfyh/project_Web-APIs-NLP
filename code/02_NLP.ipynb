{
 "cells": [
  {
   "cell_type": "markdown",
   "metadata": {},
   "source": [
    "<img src=\"http://imgur.com/1ZcRyrc.png\" style=\"float: left; margin: 20px; height: 55px\">\n",
    "\n",
    "# Project: Web APIs & NLP"
   ]
  },
  {
   "cell_type": "markdown",
   "metadata": {},
   "source": [
    "## Problem Statement"
   ]
  },
  {
   "cell_type": "markdown",
   "metadata": {},
   "source": [
    "We are a group of home improvement consultants that provide suggestions on how to refurbish the houses in selected neighborhoods in Ames, Iowa, including selecting the best features for homeowners to renovate, in order to improve the value of their homes in a cost-effective way.\n",
    "\n",
    "Based on the provided data, we will:\n",
    "- build several multiple linear regression models and select one best-performing model as our production model\n",
    "- based on our production model, explore and  recommend important features for home improvment\n",
    "- build models for selected neighorboods, explore and  recommend important features for home improvment"
   ]
  },
  {
   "cell_type": "markdown",
   "metadata": {},
   "source": [
    "## Background\n",
    "\n",
    "House value are influented by the following factors:([*source*](https://www.opendoor.com/w/blog/factors-that-influence-home-value))\n",
    "- Neighborhood comps\n",
    "- Location\n",
    "- Home size and usable space\n",
    "- Age and condition\n",
    "- Upgrades and updates\n",
    "- The local market\n",
    "- Economic indicators\n",
    "- Interest rates\n",
    "\n",
    "As home improvement consultants, we are more interested at the factors or features which can be improved on the exsiting houses. \n"
   ]
  },
  {
   "cell_type": "markdown",
   "metadata": {},
   "source": [
    "## Dataset and Data Directory\n",
    "- The dataset  ([*source*](https://www.kaggle.com/competitions/dsi-us-11-project-2-regression-challenge/data)) contains information from the Ames Assessor’s Office used in computing assessed values for individual residential properties sold in Ames, IA from 2006 to 2010.\n",
    "- The Dataset has 82 columns which include 23 nominal, 23 ordinal, 14 discrete, and 20 continuous variables (and 2 additional observation identifiers). ([*source*](http://jse.amstat.org/v19n3/decock/DataDocumentation.txt))\n",
    "- Some important features are listed as below \n",
    "\n",
    "\n",
    "|Feature|Type|Description|\n",
    "|---|---|---|\n",
    "|**SalePrice**|*Continuous*|sale price, we will treat it as house value| \n",
    "|**Neighborhood**|*nominal*|Physical locations within Ames city limits|\n",
    "|**Overall Qual**|*ordinal*|Rates the overall material and finish of the house|\n",
    "|**Year Built**|*Discrete*|Original construction date|\n",
    "|**Mas Vnr Type**|*nominal*|Masonry veneer type|\n",
    "|**Mas Vnr Area**|*Continuous*|PMasonry veneer area in square feet|\n",
    "|**Foundation**|*Nominal*| Type of foundation|\n",
    "|**BsmtFin Type 1**|*Ordinal*| Rating of basement finished area| \n",
    "|**BsmtFin SF 1**|*Continuous*|Type 1 finished square feet|\n",
    "|**Total Bsmt SF**|*Continuous*|Total square feet of basement area|\n",
    "|**Gr Liv Area**|*Continuous*|Above grade (ground) living area square feet|\n",
    "|**Fireplaces**|*Discrete*|Number of fireplaces|\n",
    "|**Garage Area**|*Continuous*|Size of garage in square feet|\n",
    "|**Open Porch SF**|*Continuous*| Open porch area in square feet|\n",
    "|**HeatingQC**|*Ordinal*|Heating quality and condition|\n",
    "|**Bedroom**|*Discrete*|Bedrooms above grade (does NOT include basement bedrooms)|\n",
    "|**Kitchen**|*Discrete*|Kitchens above grade|\n",
    "|**KitchenQual**|*Ordinal*|Kitchen quality|\n",
    "|**TotRmsAbvGrd**|*Discrete*|Total rooms above grade (does not include bathrooms)|\n"
   ]
  },
  {
   "cell_type": "markdown",
   "metadata": {},
   "source": [
    "# Import libraries"
   ]
  },
  {
   "cell_type": "code",
   "execution_count": 3,
   "metadata": {},
   "outputs": [],
   "source": [
    "# Imports:\n",
    "import numpy as np\n",
    "import pandas as pd\n",
    "pd.options.display.float_format = '{:,.2f}'.format\n",
    "pd.set_option('display.max_columns', None)\n",
    "\n",
    "import matplotlib.pyplot as plt\n",
    "import seaborn as sns\n",
    "\n",
    "from sklearn.model_selection import train_test_split\n",
    "from sklearn.linear_model import LinearRegression,Ridge,Lasso\n",
    "from sklearn.pipeline import Pipeline\n",
    "from sklearn.model_selection import GridSearchCV\n",
    "from sklearn.metrics import mean_squared_error,mean_absolute_error\n",
    "from sklearn.preprocessing import MinMaxScaler, StandardScaler,RobustScaler\n",
    "from sklearn.inspection import partial_dependence,PartialDependenceDisplay\n",
    "\n",
    "from statsmodels.stats.outliers_influence import variance_inflation_factor\n",
    "from statsmodels.tools.tools import add_constant\n",
    "from statsmodels.graphics.gofplots import qqplot\n",
    "import statsmodels.api as sm\n",
    "\n",
    "\n",
    "import pickle\n",
    "import requests\n",
    "import time\n",
    "\n"
   ]
  },
  {
   "cell_type": "markdown",
   "metadata": {},
   "source": [
    "# define some functions"
   ]
  },
  {
   "cell_type": "code",
   "execution_count": null,
   "metadata": {},
   "outputs": [],
   "source": []
  },
  {
   "cell_type": "markdown",
   "metadata": {},
   "source": [
    "# pickle"
   ]
  },
  {
   "cell_type": "code",
   "execution_count": 5,
   "metadata": {},
   "outputs": [],
   "source": [
    "df = pickle.load(open('../datasets/data.pkl', 'rb'))"
   ]
  },
  {
   "cell_type": "code",
   "execution_count": 6,
   "metadata": {},
   "outputs": [
    {
     "data": {
      "text/plain": [
       "(1999, 2)"
      ]
     },
     "execution_count": 6,
     "metadata": {},
     "output_type": "execute_result"
    }
   ],
   "source": [
    "df.shape"
   ]
  },
  {
   "cell_type": "code",
   "execution_count": 7,
   "metadata": {},
   "outputs": [
    {
     "data": {
      "text/html": [
       "<div>\n",
       "<style scoped>\n",
       "    .dataframe tbody tr th:only-of-type {\n",
       "        vertical-align: middle;\n",
       "    }\n",
       "\n",
       "    .dataframe tbody tr th {\n",
       "        vertical-align: top;\n",
       "    }\n",
       "\n",
       "    .dataframe thead th {\n",
       "        text-align: right;\n",
       "    }\n",
       "</style>\n",
       "<table border=\"1\" class=\"dataframe\">\n",
       "  <thead>\n",
       "    <tr style=\"text-align: right;\">\n",
       "      <th></th>\n",
       "      <th>subreddit</th>\n",
       "      <th>title + selftext</th>\n",
       "    </tr>\n",
       "  </thead>\n",
       "  <tbody>\n",
       "    <tr>\n",
       "      <th>0</th>\n",
       "      <td>AskWomen</td>\n",
       "      <td>What podcasts serve as confidence booster for ...</td>\n",
       "    </tr>\n",
       "    <tr>\n",
       "      <th>1</th>\n",
       "      <td>AskWomen</td>\n",
       "      <td>How did you get rid of an old friend who alway...</td>\n",
       "    </tr>\n",
       "    <tr>\n",
       "      <th>2</th>\n",
       "      <td>AskWomen</td>\n",
       "      <td>Why do they? [removed]</td>\n",
       "    </tr>\n",
       "    <tr>\n",
       "      <th>3</th>\n",
       "      <td>AskWomen</td>\n",
       "      <td>Why do? [removed]</td>\n",
       "    </tr>\n",
       "    <tr>\n",
       "      <th>4</th>\n",
       "      <td>AskWomen</td>\n",
       "      <td>Why do men? [removed]</td>\n",
       "    </tr>\n",
       "    <tr>\n",
       "      <th>...</th>\n",
       "      <td>...</td>\n",
       "      <td>...</td>\n",
       "    </tr>\n",
       "    <tr>\n",
       "      <th>95</th>\n",
       "      <td>AskWomen</td>\n",
       "      <td>women of Reddit, what are your lucrative side ...</td>\n",
       "    </tr>\n",
       "    <tr>\n",
       "      <th>96</th>\n",
       "      <td>AskWomen</td>\n",
       "      <td>How to approach my partner about their porn us...</td>\n",
       "    </tr>\n",
       "    <tr>\n",
       "      <th>97</th>\n",
       "      <td>AskWomen</td>\n",
       "      <td>Woman of reddit married to doctors, what are t...</td>\n",
       "    </tr>\n",
       "    <tr>\n",
       "      <th>98</th>\n",
       "      <td>AskWomen</td>\n",
       "      <td>What would you do when you realize the guy you...</td>\n",
       "    </tr>\n",
       "    <tr>\n",
       "      <th>99</th>\n",
       "      <td>AskWomen</td>\n",
       "      <td>What should I do if I really like a family fri...</td>\n",
       "    </tr>\n",
       "  </tbody>\n",
       "</table>\n",
       "<p>100 rows × 2 columns</p>\n",
       "</div>"
      ],
      "text/plain": [
       "   subreddit                                   title + selftext\n",
       "0   AskWomen  What podcasts serve as confidence booster for ...\n",
       "1   AskWomen  How did you get rid of an old friend who alway...\n",
       "2   AskWomen                             Why do they? [removed]\n",
       "3   AskWomen                                  Why do? [removed]\n",
       "4   AskWomen                              Why do men? [removed]\n",
       "..       ...                                                ...\n",
       "95  AskWomen  women of Reddit, what are your lucrative side ...\n",
       "96  AskWomen  How to approach my partner about their porn us...\n",
       "97  AskWomen  Woman of reddit married to doctors, what are t...\n",
       "98  AskWomen  What would you do when you realize the guy you...\n",
       "99  AskWomen  What should I do if I really like a family fri...\n",
       "\n",
       "[100 rows x 2 columns]"
      ]
     },
     "execution_count": 7,
     "metadata": {},
     "output_type": "execute_result"
    }
   ],
   "source": [
    "df.head(100)"
   ]
  },
  {
   "cell_type": "code",
   "execution_count": null,
   "metadata": {},
   "outputs": [],
   "source": []
  },
  {
   "cell_type": "markdown",
   "metadata": {},
   "source": [
    "## Conclusions and Recommendations"
   ]
  },
  {
   "cell_type": "markdown",
   "metadata": {},
   "source": [
    "- We built several models and found lasso models had the best performance\n",
    "- Based on the lasso model, we analyzed and found ' BsmtFin SF 1' and 'Fireplaces' as  recommended features for home improvements\n",
    "- We built models for selected neighborhoods and  recommended some feature for home improvement\n",
    "- The neighorhood models also suggest that it is better to do home improvement for newer houses or high value houses because it can create more value "
   ]
  },
  {
   "cell_type": "markdown",
   "metadata": {},
   "source": [
    "## Limitation and Future Enhancement\n",
    "- Our 3 multiple regression models have very similar performance, indicating our model might be underfitting, adding more futures may increase model performance\n",
    "- Our models cannot meet the LINE assumption, other non-regression models should be considered\n",
    "- Many data are highly imbalance and barely useful. Data collector might redesign what to be collected in the future\n",
    "- Many neigbhorhoods have insufficient data to build meaningful models. More data is needed"
   ]
  },
  {
   "cell_type": "code",
   "execution_count": null,
   "metadata": {},
   "outputs": [],
   "source": []
  },
  {
   "cell_type": "code",
   "execution_count": null,
   "metadata": {},
   "outputs": [],
   "source": []
  },
  {
   "cell_type": "code",
   "execution_count": null,
   "metadata": {},
   "outputs": [],
   "source": []
  }
 ],
 "metadata": {
  "anaconda-cloud": {},
  "kernelspec": {
   "display_name": "Python 3 (ipykernel)",
   "language": "python",
   "name": "python3"
  },
  "language_info": {
   "codemirror_mode": {
    "name": "ipython",
    "version": 3
   },
   "file_extension": ".py",
   "mimetype": "text/x-python",
   "name": "python",
   "nbconvert_exporter": "python",
   "pygments_lexer": "ipython3",
   "version": "3.9.7"
  }
 },
 "nbformat": 4,
 "nbformat_minor": 4
}
